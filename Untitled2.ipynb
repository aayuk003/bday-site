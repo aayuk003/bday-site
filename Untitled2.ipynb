{
  "nbformat": 4,
  "nbformat_minor": 0,
  "metadata": {
    "colab": {
      "provenance": [],
      "authorship_tag": "ABX9TyPhGgLbatlywdZFVjOuoNJj",
      "include_colab_link": true
    },
    "kernelspec": {
      "name": "python3",
      "display_name": "Python 3"
    },
    "language_info": {
      "name": "python"
    }
  },
  "cells": [
    {
      "cell_type": "markdown",
      "metadata": {
        "id": "view-in-github",
        "colab_type": "text"
      },
      "source": [
        "<a href=\"https://colab.research.google.com/github/aayuk003/bday-site/blob/main/Untitled2.ipynb\" target=\"_parent\"><img src=\"https://colab.research.google.com/assets/colab-badge.svg\" alt=\"Open In Colab\"/></a>"
      ]
    },
    {
      "cell_type": "code",
      "source": [
        "print(\"Hiii I am your Simple chatBot type bye to exit\")\n",
        "while True:\n",
        "  a = input(\"You: \").lower()\n",
        "  if a in [\"bye\", \"exit\"]:\n",
        "    print(\"Thank You for using \")\n",
        "    break\n",
        "  elif \"Kese ho\" in a:\n",
        "    print(\"bdia hu tum btao..\")\n",
        "  elif \"what is your name\" in a:\n",
        "    print(\"My name is ChatBot\")\n",
        ""
      ],
      "metadata": {
        "id": "_PTFG-Tknp3f"
      },
      "execution_count": null,
      "outputs": []
    }
  ]
}